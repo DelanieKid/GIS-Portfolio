{
 "cells": [
  {
   "cell_type": "markdown",
   "id": "8e247b07",
   "metadata": {},
   "source": [
    "# Project 2: Deep Learning"
   ]
  },
  {
   "cell_type": "markdown",
   "id": "312237c5",
   "metadata": {},
   "source": [
    "###### Delanie Kidnie GDAA2010"
   ]
  },
  {
   "cell_type": "markdown",
   "id": "08a05867",
   "metadata": {},
   "source": [
    "This project will create a deep learning classification model to classify the number images in the MNIST dataset. "
   ]
  },
  {
   "cell_type": "markdown",
   "id": "fcd5ace1",
   "metadata": {},
   "source": [
    "#### Load Libraries"
   ]
  },
  {
   "cell_type": "code",
   "execution_count": 118,
   "id": "7b0e7c6d",
   "metadata": {},
   "outputs": [
    {
     "data": {
      "text/plain": [
       "device(type='cpu')"
      ]
     },
     "execution_count": 118,
     "metadata": {},
     "output_type": "execute_result"
    }
   ],
   "source": [
    "import os\n",
    "import torch\n",
    "import torchvision\n",
    "from torchvision import transforms\n",
    "import matplotlib.pyplot as plt\n",
    "import torch.nn as nn\n",
    "import torch.nn.functional as F\n",
    "import torch.optim as optim\n",
    "from sklearn.metrics import classification_report, confusion_matrix, accuracy_score\n",
    "import seaborn as sns\n",
    "import numpy as np\n",
    "import os\n",
    "\n",
    "device = torch.device(\"cpu\")\n",
    "device"
   ]
  },
  {
   "cell_type": "markdown",
   "id": "5036bec5",
   "metadata": {},
   "source": [
    "#### Load in MNIST dataset"
   ]
  },
  {
   "cell_type": "code",
   "execution_count": 119,
   "id": "a6485538",
   "metadata": {},
   "outputs": [],
   "source": [
    "# Define the directory where you want to save the dataset\n",
    "download_path = 'C:\\\\Users\\\\delan\\\\Documents\\\\NSCC\\\\GDA1020\\\\datamining\\\\data\\\\MNIST'\n",
    "\n",
    "# Check if the directory exists, if not create it\n",
    "if not os.path.exists(download_path):\n",
    "    os.makedirs(download_path)\n",
    "\n",
    "# Define the transformation\n",
    "transform = transforms.ToTensor()\n",
    "\n",
    "# Set the batch size\n",
    "batch_size = 8\n",
    "\n",
    "# Create the training dataset object\n",
    "trainset = torchvision.datasets.MNIST(root=download_path, train=True, download=True, transform=transform)\n",
    "\n",
    "# Create the test dataset object\n",
    "testset = torchvision.datasets.MNIST(root=download_path, train=False, download=True, transform=transform)\n",
    "\n",
    "classes = ('0', '1', '2', '3', '4', '5', '6', '7', '8', '9')"
   ]
  },
  {
   "cell_type": "markdown",
   "id": "0b1f7879",
   "metadata": {},
   "source": [
    "Verify what the tensors look like and what the classes of the dataset are. "
   ]
  },
  {
   "cell_type": "code",
   "execution_count": 120,
   "id": "e7830dba",
   "metadata": {},
   "outputs": [
    {
     "name": "stdout",
     "output_type": "stream",
     "text": [
      "torch.Size([1, 28, 28]) 5\n",
      "{'0 - zero': 0, '1 - one': 1, '2 - two': 2, '3 - three': 3, '4 - four': 4, '5 - five': 5, '6 - six': 6, '7 - seven': 7, '8 - eight': 8, '9 - nine': 9}\n",
      "['0 - zero', '1 - one', '2 - two', '3 - three', '4 - four', '5 - five', '6 - six', '7 - seven', '8 - eight', '9 - nine']\n"
     ]
    }
   ],
   "source": [
    "train_iter = iter(trainset)\n",
    "image, label = next(train_iter)\n",
    "\n",
    "print(image.shape, label)\n",
    "print(trainset.class_to_idx)\n",
    "\n",
    "classes = trainset.classes\n",
    "print(classes)"
   ]
  },
  {
   "cell_type": "markdown",
   "id": "85f8dcad",
   "metadata": {},
   "source": [
    "Based on this information, this dataset has 1 channel, which makes sense since they are black and white images. The images are also 28 by 28 in size, and the first example has a class label of five. "
   ]
  },
  {
   "cell_type": "markdown",
   "id": "7c1222e3",
   "metadata": {},
   "source": [
    "#### Visualize Tensor"
   ]
  },
  {
   "cell_type": "markdown",
   "id": "0278556a",
   "metadata": {},
   "source": [
    "Using `matplotlib` the transformed imagery in the tensor can be visualized. This is useful to ensure that the imagery is being processed properly and that labels are being applied correctly. "
   ]
  },
  {
   "cell_type": "code",
   "execution_count": 121,
   "id": "93af0063",
   "metadata": {},
   "outputs": [
    {
     "data": {
      "image/png": "[encoded data removed]",
      "text/plain": [
       "<Figure size 640x480 with 1 Axes>"
      ]
     },
     "metadata": {},
     "output_type": "display_data"
    }
   ],
   "source": [
    "index = 9\n",
    "image, label = trainset[index]\n",
    "\n",
    "plt.imshow(image.permute(1,2,0))\n",
    "plt.title(f'Label: {classes[label]}')\n",
    "plt.show()"
   ]
  },
  {
   "cell_type": "markdown",
   "id": "b115bf04",
   "metadata": {},
   "source": [
    "## Prepare Data for Training"
   ]
  },
  {
   "cell_type": "markdown",
   "id": "ad6e964f",
   "metadata": {},
   "source": [
    "Determine length of training and testing sets."
   ]
  },
  {
   "cell_type": "code",
   "execution_count": 122,
   "id": "706460ec",
   "metadata": {},
   "outputs": [
    {
     "data": {
      "text/plain": [
       "(60000, 10000)"
      ]
     },
     "execution_count": 122,
     "metadata": {},
     "output_type": "execute_result"
    }
   ],
   "source": [
    "len(trainset), len(testset)"
   ]
  },
  {
   "cell_type": "markdown",
   "id": "aba0fae9",
   "metadata": {},
   "source": [
    "Create subsets of training data for training and validation. For this project it was decided to separate a fifth of the training set into the validation dataset."
   ]
  },
  {
   "cell_type": "code",
   "execution_count": 123,
   "id": "41f06bf3",
   "metadata": {},
   "outputs": [
    {
     "data": {
      "text/plain": [
       "(48000, 12000, 10000)"
      ]
     },
     "execution_count": 123,
     "metadata": {},
     "output_type": "execute_result"
    }
   ],
   "source": [
    "trainset, valset = torch.utils.data.random_split(trainset, [48000, 12000])\n",
    "\n",
    "len(trainset), len(valset), len(testset)"
   ]
  },
  {
   "cell_type": "markdown",
   "id": "d45a8dcb",
   "metadata": {},
   "source": [
    "Check the number of batches data will be divided in for training and confirm that the training data is a subset of the overall dataset."
   ]
  },
  {
   "cell_type": "code",
   "execution_count": 124,
   "id": "573d6477",
   "metadata": {},
   "outputs": [
    {
     "name": "stdout",
     "output_type": "stream",
     "text": [
      "The number of batches in the training set 6000\n",
      "The number of batches in the validation set 1500\n",
      "<class 'torch.utils.data.dataset.Subset'>\n"
     ]
    }
   ],
   "source": [
    "print(f'The number of batches in the training set {int(48000/batch_size)}')\n",
    "\n",
    "print(f'The number of batches in the validation set {int(12000/batch_size)}')\n",
    "\n",
    "print(type(trainset))"
   ]
  },
  {
   "cell_type": "markdown",
   "id": "63a56664",
   "metadata": {},
   "source": [
    "## Model Preparation"
   ]
  },
  {
   "cell_type": "markdown",
   "id": "ef19401f",
   "metadata": {},
   "source": [
    "#### Setup Data Loaders"
   ]
  },
  {
   "cell_type": "markdown",
   "id": "ba54ecb3",
   "metadata": {},
   "source": [
    "While this model has been set up to run using CPU, it will still need data loaders to be established. The main difference being that the number of workers set for the data loaders will be zero, and there will be no use of the `pin_memory`."
   ]
  },
  {
   "cell_type": "code",
   "execution_count": 125,
   "id": "fcdcbaa9",
   "metadata": {},
   "outputs": [],
   "source": [
    "trainloader = torch.utils.data.DataLoader(trainset, \n",
    "                                          batch_size=batch_size,\n",
    "                                          shuffle=True,\n",
    "                                          num_workers=0,\n",
    "                                          pin_memory=False)\n",
    "valloader = torch.utils.data.DataLoader(valset, \n",
    "                                          batch_size=batch_size,\n",
    "                                          shuffle=False,\n",
    "                                          num_workers=0,\n",
    "                                          pin_memory=False)\n",
    "testloader = torch.utils.data.DataLoader(testset, \n",
    "                                          batch_size=batch_size,\n",
    "                                          shuffle=False,\n",
    "                                          num_workers=0,\n",
    "                                          pin_memory=False)"
   ]
  },
  {
   "cell_type": "markdown",
   "id": "9959bfca",
   "metadata": {},
   "source": [
    "## Convoluted Neural Network Architecture "
   ]
  },
  {
   "cell_type": "markdown",
   "id": "65be0a39",
   "metadata": {},
   "source": [
    "For this project the convoluted neural network model will be used as it is good for image classification.  This process involves creating a class to define the model. In the class there are four main components: convolution layers, max pooling layers, linear layers, and dropout layers. The convolution layers are there to idenfity key areas in the images like edges and textures, and with each increase in channels more information is aggregated from the images. The max pooling does essentially the opposite of teh convolution layers and downsample the data, and the purpose of this is to reduce model complexity. These two steps result in emphasis in the key features of images which helps the model to learn patterns more efficiently. \n",
    "\n",
    "Next the forward function needs to be called in the class, this will provide instructions for how the model will flow from one layer to the next. This step will also define the activation functions which help the model create curves of best fit for the data."
   ]
  },
  {
   "cell_type": "code",
   "execution_count": 126,
   "id": "2d2b8158",
   "metadata": {},
   "outputs": [],
   "source": [
    "class OptimizedNeuralNet(nn.Module):\n",
    "    def __init__(self):\n",
    "        super().__init__()\n",
    "\n",
    "        # Convolutional layers\n",
    "        self.conv1 = nn.Conv2d(in_channels=1, out_channels=32, kernel_size=3, padding=1)\n",
    "        self.bn1 = nn.BatchNorm2d(32)\n",
    "        self.pool1 = nn.MaxPool2d(2, 2)\n",
    "\n",
    "        self.conv2 = nn.Conv2d(in_channels=32, out_channels=64, kernel_size=3, padding=1)\n",
    "        self.bn2 = nn.BatchNorm2d(64)\n",
    "        self.pool2 = nn.MaxPool2d(2, 2)\n",
    "\n",
    "        self.conv3 = nn.Conv2d(in_channels=64, out_channels=128, kernel_size=3, padding=1)\n",
    "        self.bn3 = nn.BatchNorm2d(128)\n",
    "        self.pool3 = nn.MaxPool2d(2, 2)\n",
    "\n",
    "        # Gllobal Average Pooling\n",
    "        self.gap = nn.AdaptiveAvgPool2d(1)\n",
    "\n",
    "        #fully connected layer\n",
    "        self.fc = nn.Linear(128, 10)\n",
    "\n",
    "    def forward(self, x):\n",
    "        # convolutional + batchnorm + activation + pooling\n",
    "        x = self.pool1(F.relu(self.bn1(self.conv1(x))))\n",
    "        x = self.pool2(F.relu(self.bn2(self.conv2(x))))\n",
    "        x = self.pool3(F.relu(self.bn3(self.conv3(x))))\n",
    "\n",
    "        # global average pooling\n",
    "        x = self.gap(x)\n",
    "        x = torch.flatten(x, 1)\n",
    "\n",
    "        # fully connected output\n",
    "        x = self.fc(x)\n",
    "\n",
    "        return x"
   ]
  },
  {
   "cell_type": "markdown",
   "id": "f8e7e4e8",
   "metadata": {},
   "source": [
    "#### Push model to Device and Verify Parameters."
   ]
  },
  {
   "cell_type": "markdown",
   "id": "5f97f265",
   "metadata": {},
   "source": [
    "This step is more important when running a model on GPU but it does not inhibit the model on CPU and therefore was still included. "
   ]
  },
  {
   "cell_type": "code",
   "execution_count": 127,
   "id": "7e48722b",
   "metadata": {},
   "outputs": [
    {
     "data": {
      "text/plain": [
       "OptimizedNeuralNet(\n",
       "  (conv1): Conv2d(1, 32, kernel_size=(3, 3), stride=(1, 1), padding=(1, 1))\n",
       "  (bn1): BatchNorm2d(32, eps=1e-05, momentum=0.1, affine=True, track_running_stats=True)\n",
       "  (pool1): MaxPool2d(kernel_size=2, stride=2, padding=0, dilation=1, ceil_mode=False)\n",
       "  (conv2): Conv2d(32, 64, kernel_size=(3, 3), stride=(1, 1), padding=(1, 1))\n",
       "  (bn2): BatchNorm2d(64, eps=1e-05, momentum=0.1, affine=True, track_running_stats=True)\n",
       "  (pool2): MaxPool2d(kernel_size=2, stride=2, padding=0, dilation=1, ceil_mode=False)\n",
       "  (conv3): Conv2d(64, 128, kernel_size=(3, 3), stride=(1, 1), padding=(1, 1))\n",
       "  (bn3): BatchNorm2d(128, eps=1e-05, momentum=0.1, affine=True, track_running_stats=True)\n",
       "  (pool3): MaxPool2d(kernel_size=2, stride=2, padding=0, dilation=1, ceil_mode=False)\n",
       "  (gap): AdaptiveAvgPool2d(output_size=1)\n",
       "  (fc): Linear(in_features=128, out_features=10, bias=True)\n",
       ")"
      ]
     },
     "execution_count": 127,
     "metadata": {},
     "output_type": "execute_result"
    }
   ],
   "source": [
    "net = OptimizedNeuralNet()\n",
    "net.to(device)"
   ]
  },
  {
   "cell_type": "code",
   "execution_count": 128,
   "id": "71fa03aa",
   "metadata": {},
   "outputs": [
    {
     "name": "stdout",
     "output_type": "stream",
     "text": [
      "input shape: torch.Size([8, 1, 28, 28])\n",
      "after network shape: torch.Size([8, 10])\n",
      "tensor([8, 7, 6, 0, 9, 1, 5, 7])\n"
     ]
    }
   ],
   "source": [
    "for i, data in enumerate(trainloader):\n",
    "    inputs, labels = data[0].to(device), data[1].to(device)\n",
    "    print(f'input shape: {inputs.shape}')\n",
    "    print(f'after network shape: {net(inputs).shape}')\n",
    "    print(labels)\n",
    "    break"
   ]
  },
  {
   "cell_type": "code",
   "execution_count": 129,
   "id": "4fa4568c",
   "metadata": {},
   "outputs": [
    {
     "name": "stdout",
     "output_type": "stream",
     "text": [
      "Number of parameters in the model: 94,410\n"
     ]
    }
   ],
   "source": [
    "num_params = 0\n",
    "for x in net.parameters():\n",
    "    num_params += len(torch.flatten(x))\n",
    "print(f'Number of parameters in the model: {num_params:,}')"
   ]
  },
  {
   "cell_type": "markdown",
   "id": "b96ebe12",
   "metadata": {},
   "source": [
    "## Select Loss Function and Optimization Technique"
   ]
  },
  {
   "cell_type": "markdown",
   "id": "eb53491e",
   "metadata": {},
   "source": [
    "For this project the `CrossEntropyLoss` function was used because of its suitability with multi-class classigication models. The loss function is important as it is the parameter that the model will work to reduce by adjusting hyperparameters. The learning rate for this model was decided as 0.0001 and will determine the aggressiveness in which the model works to correct itself. "
   ]
  },
  {
   "cell_type": "code",
   "execution_count": 130,
   "id": "f8fe93a3",
   "metadata": {},
   "outputs": [],
   "source": [
    "criterion = nn.CrossEntropyLoss()\n",
    "# optimizer = optim.Adam(net.parameters(), lr=0.0001)\n",
    "optimizer2 = optim.Adam(net.parameters(), lr=0.001)"
   ]
  },
  {
   "cell_type": "markdown",
   "id": "65c7bc2c",
   "metadata": {},
   "source": [
    "Two learning rates were tested and used to train the model. The first was 0.0001 which resulted in an accuracy of approximately 98%, and the second was 0.001 which resulted in an accuracy of approximately 99%. With the improvement from the second learning rate and the accuracy already being so high, it was determined that the 0.001 value was sufficient. "
   ]
  },
  {
   "cell_type": "markdown",
   "id": "71ed49e6",
   "metadata": {},
   "source": [
    "## Define and Run Training Loops"
   ]
  },
  {
   "cell_type": "markdown",
   "id": "8bad05d4",
   "metadata": {},
   "source": [
    "#### Setup Training Epoch"
   ]
  },
  {
   "cell_type": "markdown",
   "id": "2c287237",
   "metadata": {},
   "source": [
    "The training epoch will be used to do exactly as it sounds, train the model. It is key to have the mode in `net.train` to be set to true for this. "
   ]
  },
  {
   "cell_type": "code",
   "execution_count": 131,
   "id": "36cd44a7",
   "metadata": {},
   "outputs": [],
   "source": [
    "def train_one_epoch():\n",
    "  net.train(True)\n",
    "\n",
    "  running_loss = 0.0\n",
    "  running_accuracy = 0.0\n",
    "\n",
    "  for batch_index, data in enumerate(trainloader):\n",
    "    inputs, labels = data[0].to(device), data[1].to(device)\n",
    "\n",
    "    optimizer2.zero_grad()\n",
    "\n",
    "    outputs = net(inputs) \n",
    "    correct = torch.sum(labels == torch.argmax(outputs, dim=1)).item()\n",
    "    running_accuracy += correct / batch_size\n",
    "\n",
    "    loss = criterion(outputs, labels)\n",
    "    running_loss += loss.item()\n",
    "    loss.backward()\n",
    "    optimizer2.step()\n",
    "\n",
    "    if batch_index % 500 == 499: \n",
    "      avg_loss_across_batches = running_loss / 500\n",
    "      avg_acc_across_batches = (running_accuracy / 500) * 100\n",
    "      print('Batch {0}, Loss: {1:.3f}, Accuracy: {2:.1f}%'.format(batch_index+1,\n",
    "                                                          avg_loss_across_batches,\n",
    "                                                          avg_acc_across_batches))\n",
    "      running_loss = 0.0\n",
    "      running_accuracy = 0.0\n",
    "\n",
    "    \n",
    "  print()"
   ]
  },
  {
   "cell_type": "markdown",
   "id": "cea8f5c2",
   "metadata": {},
   "source": [
    "#### Setup Validation Epoch"
   ]
  },
  {
   "cell_type": "markdown",
   "id": "6d320534",
   "metadata": {},
   "source": [
    "The validation epoch will be used to run the trained model on the validation dataset and evaluate the results. This is why the `net.train` is set to false. Using the data provided by this function can inform on how well the model is running outside of the training data."
   ]
  },
  {
   "cell_type": "code",
   "execution_count": 132,
   "id": "628bb092",
   "metadata": {},
   "outputs": [],
   "source": [
    "def validate_one_epoch():\n",
    "    net.train(False)\n",
    "    running_loss = 0.0\n",
    "    running_accuracy = 0.0\n",
    "    \n",
    "    for i, data in enumerate(valloader):\n",
    "        inputs, labels = data[0].to(device), data[1].to(device)\n",
    "        \n",
    "        with torch.no_grad():\n",
    "            outputs = net(inputs) # shape: [batch_size, 5]\n",
    "            correct = torch.sum(labels == torch.argmax(outputs, dim=1)).item()\n",
    "            running_accuracy += correct / batch_size\n",
    "            loss = criterion(outputs, labels) # One number, the average batch loss\n",
    "            running_loss += loss.item()\n",
    "        \n",
    "    avg_loss_across_batches = running_loss / len(valloader)\n",
    "    avg_acc_across_batches = (running_accuracy / len(valloader)) * 100\n",
    "    \n",
    "    print('Val Loss: {0:.3f}, Val Accuracy: {1:.1f}%'.format(avg_loss_across_batches,\n",
    "                                                            avg_acc_across_batches))\n",
    "    print('***************************************************')\n",
    "    print()"
   ]
  },
  {
   "cell_type": "markdown",
   "id": "a280c40b",
   "metadata": {},
   "source": [
    "## Train the Model"
   ]
  },
  {
   "cell_type": "markdown",
   "id": "da37e0ab",
   "metadata": {},
   "source": [
    "The model will be trained using 5 epochs of training and validation loops.This means that the model will do 5 passes through the entire training and validation datasets. This allowed the model to reach accuracy of approximately 99%."
   ]
  },
  {
   "cell_type": "code",
   "execution_count": 133,
   "id": "254c198c",
   "metadata": {},
   "outputs": [
    {
     "name": "stdout",
     "output_type": "stream",
     "text": [
      "epoch: 1\n",
      "\n"
     ]
    },
    {
     "name": "stdout",
     "output_type": "stream",
     "text": [
      "Batch 500, Loss: 0.686, Accuracy: 84.7%\n",
      "Batch 1000, Loss: 0.236, Accuracy: 94.0%\n",
      "Batch 1500, Loss: 0.149, Accuracy: 96.5%\n",
      "Batch 2000, Loss: 0.119, Accuracy: 96.8%\n",
      "Batch 2500, Loss: 0.099, Accuracy: 97.3%\n",
      "Batch 3000, Loss: 0.093, Accuracy: 97.5%\n",
      "Batch 3500, Loss: 0.110, Accuracy: 96.8%\n",
      "Batch 4000, Loss: 0.077, Accuracy: 97.9%\n",
      "Batch 4500, Loss: 0.073, Accuracy: 97.9%\n",
      "Batch 5000, Loss: 0.066, Accuracy: 98.2%\n",
      "Batch 5500, Loss: 0.068, Accuracy: 98.0%\n",
      "Batch 6000, Loss: 0.070, Accuracy: 98.1%\n",
      "\n",
      "Val Loss: 0.055, Val Accuracy: 98.2%\n",
      "***************************************************\n",
      "\n",
      "epoch: 2\n",
      "\n",
      "Batch 500, Loss: 0.059, Accuracy: 98.4%\n",
      "Batch 1000, Loss: 0.046, Accuracy: 98.7%\n",
      "Batch 1500, Loss: 0.058, Accuracy: 98.1%\n",
      "Batch 2000, Loss: 0.056, Accuracy: 98.1%\n",
      "Batch 2500, Loss: 0.051, Accuracy: 98.4%\n",
      "Batch 3000, Loss: 0.044, Accuracy: 98.6%\n",
      "Batch 3500, Loss: 0.054, Accuracy: 98.4%\n",
      "Batch 4000, Loss: 0.049, Accuracy: 98.7%\n",
      "Batch 4500, Loss: 0.042, Accuracy: 98.7%\n",
      "Batch 5000, Loss: 0.052, Accuracy: 98.2%\n",
      "Batch 5500, Loss: 0.052, Accuracy: 98.6%\n",
      "Batch 6000, Loss: 0.039, Accuracy: 98.8%\n",
      "\n",
      "Val Loss: 0.033, Val Accuracy: 99.1%\n",
      "***************************************************\n",
      "\n",
      "epoch: 3\n",
      "\n",
      "Batch 500, Loss: 0.031, Accuracy: 99.0%\n",
      "Batch 1000, Loss: 0.042, Accuracy: 98.7%\n",
      "Batch 1500, Loss: 0.042, Accuracy: 98.6%\n",
      "Batch 2000, Loss: 0.044, Accuracy: 98.5%\n",
      "Batch 2500, Loss: 0.027, Accuracy: 99.4%\n",
      "Batch 3000, Loss: 0.044, Accuracy: 98.7%\n",
      "Batch 3500, Loss: 0.039, Accuracy: 98.9%\n",
      "Batch 4000, Loss: 0.039, Accuracy: 98.7%\n",
      "Batch 4500, Loss: 0.032, Accuracy: 99.1%\n",
      "Batch 5000, Loss: 0.045, Accuracy: 98.6%\n",
      "Batch 5500, Loss: 0.037, Accuracy: 98.7%\n",
      "Batch 6000, Loss: 0.033, Accuracy: 98.8%\n",
      "\n",
      "Val Loss: 0.049, Val Accuracy: 98.4%\n",
      "***************************************************\n",
      "\n",
      "epoch: 4\n",
      "\n",
      "Batch 500, Loss: 0.022, Accuracy: 99.3%\n",
      "Batch 1000, Loss: 0.025, Accuracy: 99.2%\n",
      "Batch 1500, Loss: 0.024, Accuracy: 99.4%\n",
      "Batch 2000, Loss: 0.026, Accuracy: 99.2%\n",
      "Batch 2500, Loss: 0.033, Accuracy: 99.0%\n",
      "Batch 3000, Loss: 0.029, Accuracy: 99.1%\n",
      "Batch 3500, Loss: 0.033, Accuracy: 99.0%\n",
      "Batch 4000, Loss: 0.023, Accuracy: 99.3%\n",
      "Batch 4500, Loss: 0.027, Accuracy: 99.1%\n",
      "Batch 5000, Loss: 0.027, Accuracy: 99.2%\n",
      "Batch 5500, Loss: 0.024, Accuracy: 99.3%\n",
      "Batch 6000, Loss: 0.029, Accuracy: 99.2%\n",
      "\n",
      "Val Loss: 0.045, Val Accuracy: 98.6%\n",
      "***************************************************\n",
      "\n",
      "epoch: 5\n",
      "\n",
      "Batch 500, Loss: 0.025, Accuracy: 99.4%\n",
      "Batch 1000, Loss: 0.025, Accuracy: 99.1%\n",
      "Batch 1500, Loss: 0.023, Accuracy: 99.4%\n",
      "Batch 2000, Loss: 0.016, Accuracy: 99.5%\n",
      "Batch 2500, Loss: 0.024, Accuracy: 99.2%\n",
      "Batch 3000, Loss: 0.019, Accuracy: 99.4%\n",
      "Batch 3500, Loss: 0.022, Accuracy: 99.3%\n",
      "Batch 4000, Loss: 0.028, Accuracy: 99.0%\n",
      "Batch 4500, Loss: 0.026, Accuracy: 99.1%\n",
      "Batch 5000, Loss: 0.025, Accuracy: 99.2%\n",
      "Batch 5500, Loss: 0.026, Accuracy: 99.3%\n",
      "Batch 6000, Loss: 0.021, Accuracy: 99.4%\n",
      "\n",
      "Val Loss: 0.037, Val Accuracy: 98.9%\n",
      "***************************************************\n",
      "\n",
      "Finished Training\n"
     ]
    }
   ],
   "source": [
    "num_epochs = 5\n",
    "\n",
    "for epoch_index in range(num_epochs):\n",
    "    print(f'epoch: {epoch_index +1}\\n')\n",
    "\n",
    "    train_one_epoch()\n",
    "    validate_one_epoch()\n",
    "\n",
    "print('Finished Training')"
   ]
  },
  {
   "cell_type": "markdown",
   "id": "0748a4a8",
   "metadata": {},
   "source": [
    "## Evaluate the Model"
   ]
  },
  {
   "cell_type": "markdown",
   "id": "5c493544",
   "metadata": {},
   "source": [
    "Now to see how well the model performs it will be tested on the test dataset created at the beginning. Evaluating the model involves calculating the accuracy of predictions, as well as considering the true/false positive and negative rates. The accuracy was calculating using the `accuracy_score` function and the positives and negatives were illustrated using a confusion matrix."
   ]
  },
  {
   "cell_type": "code",
   "execution_count": 134,
   "id": "73df4760",
   "metadata": {},
   "outputs": [
    {
     "name": "stdout",
     "output_type": "stream",
     "text": [
      "Accuracy: 0.9906\n"
     ]
    }
   ],
   "source": [
    "predicted_labels = []\n",
    "true_labels = []\n",
    "\n",
    "for images, labels in testloader:\n",
    "    images = images.to(device)\n",
    "    labels = labels.to(device)\n",
    "    outputs = net(images)\n",
    "    _, predicted = torch.max(outputs, dim=1)\n",
    "    predicted_labels.extend(predicted.cpu().numpy())\n",
    "    true_labels.extend(labels.cpu().numpy())\n",
    "\n",
    "\n",
    "accuracy = accuracy_score(true_labels, predicted_labels)\n",
    "print(\"Accuracy:\", accuracy)\n",
    "\n",
    "class_report = classification_report(true_labels, predicted_labels, target_names=classes)\n",
    "\n",
    "conf_matrix = confusion_matrix(true_labels, predicted_labels)"
   ]
  },
  {
   "cell_type": "markdown",
   "id": "de8f771e",
   "metadata": {},
   "source": [
    "Acuracy with learning rate of 0.0001: 0.9885"
   ]
  },
  {
   "cell_type": "code",
   "execution_count": 135,
   "id": "5f425120",
   "metadata": {},
   "outputs": [
    {
     "name": "stdout",
     "output_type": "stream",
     "text": [
      "classification report               precision    recall  f1-score   support\n",
      "\n",
      "    0 - zero       0.99      1.00      0.99       980\n",
      "     1 - one       0.99      1.00      1.00      1135\n",
      "     2 - two       0.98      0.99      0.99      1032\n",
      "   3 - three       1.00      0.98      0.99      1010\n",
      "    4 - four       0.98      1.00      0.99       982\n",
      "    5 - five       0.99      0.99      0.99       892\n",
      "     6 - six       1.00      0.99      0.99       958\n",
      "   7 - seven       0.99      0.99      0.99      1028\n",
      "   8 - eight       0.99      0.99      0.99       974\n",
      "    9 - nine       1.00      0.98      0.99      1009\n",
      "\n",
      "    accuracy                           0.99     10000\n",
      "   macro avg       0.99      0.99      0.99     10000\n",
      "weighted avg       0.99      0.99      0.99     10000\n",
      "\n",
      "confusion matrix:  [[ 977    0    1    0    0    0    1    1    0    0]\n",
      " [   0 1134    1    0    0    0    0    0    0    0]\n",
      " [   1    2 1022    0    0    0    0    7    0    0]\n",
      " [   1    0   10  987    0    5    0    1    6    0]\n",
      " [   0    0    0    0  982    0    0    0    0    0]\n",
      " [   2    0    2    1    0  883    3    1    0    0]\n",
      " [   4    4    0    0    2    1  947    0    0    0]\n",
      " [   0    3    4    0    3    0    0 1018    0    0]\n",
      " [   1    1    2    0    2    1    0    0  967    0]\n",
      " [   0    0    1    0   13    1    0    4    1  989]]\n"
     ]
    }
   ],
   "source": [
    "print(\"classification report\", class_report)\n",
    "print(\"confusion matrix: \", conf_matrix)"
   ]
  },
  {
   "cell_type": "markdown",
   "id": "db99c310",
   "metadata": {},
   "source": [
    "The classification report shows that the model had strong accuracy scores and evaluation scores for all classes. "
   ]
  },
  {
   "cell_type": "code",
   "execution_count": 136,
   "id": "29010974",
   "metadata": {},
   "outputs": [
    {
     "data": {
      "image/png": "[encoded data removed]",
      "text/plain": [
       "<Figure size 800x600 with 2 Axes>"
      ]
     },
     "metadata": {},
     "output_type": "display_data"
    }
   ],
   "source": [
    "plt.figure(figsize=(8, 6))\n",
    "sns.set(font_scale=1.2)\n",
    "sns.heatmap(conf_matrix, annot=True, cmap=\"Blues\", fmt=\"d\", xticklabels=classes, yticklabels=classes)\n",
    "plt.xlabel(\"Predicted labels\")\n",
    "plt.ylabel(\"Actual labels\")\n",
    "plt.title(\"Confusion Matrix\")\n",
    "plt.show()"
   ]
  },
  {
   "cell_type": "markdown",
   "id": "7eb999d7",
   "metadata": {},
   "source": [
    "Overall, the amount of misclassifications in the model were relatively low which aligns with the high accuracy score. There doesn't seem to be any value which is consistently the worst for getting misclassified, but the number 1 is by far the most accurate. "
   ]
  },
  {
   "cell_type": "markdown",
   "id": "39aa5dcf",
   "metadata": {},
   "source": [
    "## Save the Trained Model"
   ]
  },
  {
   "cell_type": "markdown",
   "id": "911f427e",
   "metadata": {},
   "source": [
    "To avoid having to retrain the model it is helpful to save the model to file."
   ]
  },
  {
   "cell_type": "code",
   "execution_count": 137,
   "id": "3204b7aa",
   "metadata": {},
   "outputs": [
    {
     "name": "stdout",
     "output_type": "stream",
     "text": [
      "Model saved at:C:\\Users\\delan\\Documents\\NSCC\\GDA1020\\datamining\\models\\MNIST_epoch.pth\n"
     ]
    }
   ],
   "source": [
    "save_dir = 'C:\\\\Users\\\\delan\\\\Documents\\\\NSCC\\\\GDA1020\\\\datamining\\\\models'\n",
    "\n",
    "model_name = \"MNIST_epoch.pth\"\n",
    "save_path = os.path.join(save_dir, model_name)\n",
    "\n",
    "torch.save(net.state_dict(), save_path)\n",
    "\n",
    "print(f\"Model saved at:{save_path}\")"
   ]
  }
 ],
 "metadata": {
  "kernelspec": {
   "display_name": "dl",
   "language": "python",
   "name": "python3"
  },
  "language_info": {
   "codemirror_mode": {
    "name": "ipython",
    "version": 3
   },
   "file_extension": ".py",
   "mimetype": "text/x-python",
   "name": "python",
   "nbconvert_exporter": "python",
   "pygments_lexer": "ipython3",
   "version": "3.12.6"
  }
 },
 "nbformat": 4,
 "nbformat_minor": 5
}
